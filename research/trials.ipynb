{
 "cells": [
  {
   "cell_type": "code",
   "execution_count": 2,
   "id": "3b2076a3",
   "metadata": {},
   "outputs": [],
   "source": [
    "d = {\"key1\" : 'value1', \"key2\" : 'valuu2'}"
   ]
  },
  {
   "cell_type": "code",
   "execution_count": 5,
   "id": "c412ab9e",
   "metadata": {},
   "outputs": [],
   "source": [
    "from box import ConfigBox"
   ]
  },
  {
   "cell_type": "code",
   "execution_count": null,
   "id": "70fb69f5",
   "metadata": {},
   "outputs": [],
   "source": [
    "d2 = ConfigBox({\"key1\" : 'value1', \"key2\" : 'value2'})"
   ]
  },
  {
   "cell_type": "code",
   "execution_count": 10,
   "id": "32dc2091",
   "metadata": {},
   "outputs": [
    {
     "data": {
      "text/plain": [
       "<bound method Box.keys of ConfigBox({'key1': 'value1', 'key2': 'valuu2'})>"
      ]
     },
     "execution_count": 10,
     "metadata": {},
     "output_type": "execute_result"
    }
   ],
   "source": [
    "d2.keys"
   ]
  },
  {
   "cell_type": "code",
   "execution_count": 11,
   "id": "b897ac8c",
   "metadata": {},
   "outputs": [],
   "source": [
    "def get_product(x: int, y:int) -> int:\n",
    "    return x * y"
   ]
  },
  {
   "cell_type": "code",
   "execution_count": 12,
   "id": "f2c86b3e",
   "metadata": {},
   "outputs": [
    {
     "data": {
      "text/plain": [
       "8"
      ]
     },
     "execution_count": 12,
     "metadata": {},
     "output_type": "execute_result"
    }
   ],
   "source": [
    "get_product(2, 4)"
   ]
  },
  {
   "cell_type": "code",
   "execution_count": 13,
   "id": "b0b2fe4e",
   "metadata": {},
   "outputs": [
    {
     "data": {
      "text/plain": [
       "'44'"
      ]
     },
     "execution_count": 13,
     "metadata": {},
     "output_type": "execute_result"
    }
   ],
   "source": [
    "get_product(2, \"4\")"
   ]
  },
  {
   "cell_type": "code",
   "execution_count": 14,
   "id": "4bf822d6",
   "metadata": {},
   "outputs": [],
   "source": [
    "from ensure import ensure_annotations"
   ]
  },
  {
   "cell_type": "code",
   "execution_count": null,
   "id": "941ebb9a",
   "metadata": {},
   "outputs": [],
   "source": []
  }
 ],
 "metadata": {
  "kernelspec": {
   "display_name": "textSumm",
   "language": "python",
   "name": "python3"
  },
  "language_info": {
   "codemirror_mode": {
    "name": "ipython",
    "version": 3
   },
   "file_extension": ".py",
   "mimetype": "text/x-python",
   "name": "python",
   "nbconvert_exporter": "python",
   "pygments_lexer": "ipython3",
   "version": "3.10.18"
  }
 },
 "nbformat": 4,
 "nbformat_minor": 5
}
